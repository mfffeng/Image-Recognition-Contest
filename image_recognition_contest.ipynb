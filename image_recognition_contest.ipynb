{
  "nbformat": 4,
  "nbformat_minor": 0,
  "metadata": {
    "colab": {
      "name": "Mini Project 3.ipynb",
      "provenance": [],
      "collapsed_sections": []
    },
    "kernelspec": {
      "name": "python3",
      "display_name": "Python 3"
    },
    "language_info": {
      "name": "python"
    },
    "accelerator": "GPU"
  },
  "cells": [
    {
      "cell_type": "markdown",
      "metadata": {
        "id": "ch5DDckOjnNo"
      },
      "source": [
        "# Imports"
      ]
    },
    {
      "cell_type": "code",
      "metadata": {
        "id": "lT6AjsmFtYiA"
      },
      "source": [
        "import pickle as pkl\n",
        "import numpy as np\n",
        "import torch\n",
        "import torch.nn as nn\n",
        "import torch.nn.functional as F\n",
        "import torch.optim as optim\n",
        "from torchvision import datasets, transforms\n",
        "import torchvision\n",
        "import torchvision.transforms as transforms\n",
        "import matplotlib.pyplot as plt\n",
        "import tensorflow as tf\n",
        "import keras\n",
        "from keras import layers, regularizers, optimizers\n",
        "from keras.models import Sequential\n",
        "from keras.layers import BatchNormalization\n",
        "from keras.layers import Conv2D\n",
        "from keras.layers import MaxPool2D\n",
        "from keras.layers import Activation\n",
        "from keras.layers import Flatten\n",
        "from keras.layers import Dropout\n",
        "from keras.layers import Dense\n",
        "from sklearn.model_selection import train_test_split\n",
        "from sklearn.preprocessing import LabelBinarizer\n",
        "from scipy import ndimage\n",
        "from keras.preprocessing.image import ImageDataGenerator"
      ],
      "execution_count": null,
      "outputs": []
    },
    {
      "cell_type": "markdown",
      "metadata": {
        "id": "v1KcoE2Yjs6_"
      },
      "source": [
        "# Load Training Data"
      ]
    },
    {
      "cell_type": "code",
      "metadata": {
        "id": "B2K-FGcyI3aP"
      },
      "source": [
        "with open(\"images_l.pkl\", \"rb\") as f:\n",
        "    images = pkl.load(f)\n",
        "\n",
        "with open(\"labels_l.pkl\", \"rb\") as f1:\n",
        "    labels = pkl.load(f1)\n",
        "\n",
        "with open(\"images_ul.pkl\", \"rb\") as f2:\n",
        "    ul_images = pkl.load(f2)"
      ],
      "execution_count": null,
      "outputs": []
    },
    {
      "cell_type": "markdown",
      "metadata": {
        "id": "u9aLtDz4jzYu"
      },
      "source": [
        "# Transform Labels"
      ]
    },
    {
      "cell_type": "code",
      "metadata": {
        "id": "Pe23GovuQHaE"
      },
      "source": [
        "# Transform the labels into combinations of number and character (e.g. \"1a\")\n",
        "mlb = LabelBinarizer()\n",
        "labels = [f'{str(i[:10].argmax())}{chr(i[10:].argmax() + 97)}' for i in labels]\n",
        "labels = mlb.fit_transform(labels)"
      ],
      "execution_count": null,
      "outputs": []
    },
    {
      "cell_type": "markdown",
      "metadata": {
        "id": "9movMgVZj6r_"
      },
      "source": [
        "# Auxilary Functions"
      ]
    },
    {
      "cell_type": "code",
      "metadata": {
        "id": "E246WtZJMMU_"
      },
      "source": [
        "def denoise(image,sigmanum):\n",
        "    return ndimage.gaussian_filter(image, sigma = sigmanum)"
      ],
      "execution_count": null,
      "outputs": []
    },
    {
      "cell_type": "code",
      "metadata": {
        "id": "1Irg29qvZkwg"
      },
      "source": [
        "def threshold(image,num):\n",
        "    return np.where(image > num,255,0)"
      ],
      "execution_count": null,
      "outputs": []
    },
    {
      "cell_type": "code",
      "metadata": {
        "id": "eiIKeC-7agGQ"
      },
      "source": [
        "def rotation(image,degree):\n",
        "    return ndimage.rotate(image, degree, reshape=False)"
      ],
      "execution_count": null,
      "outputs": []
    },
    {
      "cell_type": "code",
      "metadata": {
        "id": "X1MuqF2deqNt"
      },
      "source": [
        "# Segmentation was meant to separate the number and the character from each image,\n",
        "# but we ultimately abandoned this method due to the inability of finding an\n",
        "# effective clustering method\n",
        "def segmentation(img): \n",
        "    de_img = denoise(img,0.5)\n",
        "    toreturn = []\n",
        "    mem = [] #medium to store all the properties of the object\n",
        "    ret,thresh1 = cv2.threshold(de_img,100,255,cv2.THRESH_BINARY)\n",
        "    thresh1 = thresh1.astype(np.uint8)\n",
        "    contours, hierarchy = cv2.findContours(thresh1,cv2.RETR_TREE,cv2.CHAIN_APPROX_SIMPLE)\n",
        "    for cnt in contours:\n",
        "        flag = False\n",
        "        x,y,w,h = cv2.boundingRect(cnt)\n",
        "        #bound the images\n",
        "        #too small(noise)\n",
        "        if w>4 or h>4 : #was 8 and 8 \n",
        "            #save individual images\n",
        "            for m in mem:\n",
        "                px,py,pw,ph = m\n",
        "                #if ((abs(px-x) + abs(py-y)) or (abs(px+pw-x) + abs(py+ph-y)) or (abs(px+pw-x-w) + abs(py+ph-y-h)) \\\n",
        "                                               #or (abs(px-x-w) + abs(py-y-h))< 5):\n",
        "                #if((abs(px-x) + abs(py-y)) < 8):\n",
        "                    #flag = True\n",
        "                pxs = set(range(px,px+pw))\n",
        "                l1 = len(pxs.intersection(range(x,x+w)))\n",
        "                pxy = set(range(py,py+ph))\n",
        "                l2 = len(pxy.intersection(range(y,y+h)))\n",
        "                if (l1 > 2 and l2 > 2):\n",
        "                    flag = True\n",
        "                    break\n",
        "            if (flag == True):\n",
        "                continue\n",
        "            mem.append([x,y,w,h])\n",
        "            max1 = max(w,h)\n",
        "            w = max1\n",
        "            h = max1\n",
        "            cropped_image = img[y:(y+h),x:(x+w)]\n",
        "            resized = cv2.resize(cropped_image,(56,56), interpolation = cv2.INTER_AREA) \n",
        "            toreturn.append(resized)\n",
        "    if(len(toreturn) == 1):\n",
        "        x,y,w,h = mem[0]\n",
        "        if(w > h):\n",
        "            new_w = w//2 \n",
        "            cropped_image = img[y:(y+h),x:(x+new_w)]\n",
        "            cropped_image2 = img[y:(y+h),x+new_w:(x+w)]\n",
        "            resized = cv2.resize(cropped_image,(56,56), interpolation = cv2.INTER_AREA) \n",
        "            resized2 = cv2.resize(cropped_image2,(56,56), interpolation = cv2.INTER_AREA) \n",
        "            toreturn = []\n",
        "            toreturn.append(resized)\n",
        "            toreturn.append(resized2)\n",
        "        else:\n",
        "            new_h = h//2\n",
        "            cropped_image = img[y:(y+new_h),x:(x+w)]\n",
        "            cropped_image2 = img[y+new_h:(y+h),x:(x+w)]\n",
        "            resized = cv2.resize(cropped_image,(56,56), interpolation = cv2.INTER_AREA) \n",
        "            resized2 = cv2.resize(cropped_image2,(56,56), interpolation = cv2.INTER_AREA) \n",
        "            toreturn = []\n",
        "            toreturn.append(resized)\n",
        "            toreturn.append(resized2)\n",
        "    if(len(toreturn) > 2):\n",
        "        newlist = []\n",
        "        toreturn = []\n",
        "        for i in mem:\n",
        "            x,y,w,h = i\n",
        "            area = w*h\n",
        "            newlist.append([x,y,w,h,area])\n",
        "        npnew = np.array(newlist)\n",
        "        sortedArr = npnew[npnew[:,-1].argsort()]\n",
        "        #print(sortedArr)\n",
        "        sortedArr = sortedArr[-2:,:4]\n",
        "        #print(sortedArr)\n",
        "        for j in sortedArr:\n",
        "            x,y,w,h = j\n",
        "            max1 = max(w,h)\n",
        "            w = max1\n",
        "            h = max1\n",
        "            cropped_image = img[y:(y+h),x:(x+w)]\n",
        "            resized = cv2.resize(cropped_image,(56,56), interpolation = cv2.INTER_AREA) \n",
        "            toreturn.append(resized)\n",
        "    #else if(len(toreturn) == 1)\n",
        "    return toreturn\n",
        "        "
      ],
      "execution_count": null,
      "outputs": []
    },
    {
      "cell_type": "markdown",
      "metadata": {
        "id": "d650MxoTkRRk"
      },
      "source": [
        "# Network Architecture"
      ]
    },
    {
      "cell_type": "markdown",
      "metadata": {
        "id": "9IjtkY0ek7Db"
      },
      "source": [
        "Small VGGNet Architecture Taken from https://www.kaggle.com/mobasshir/keras-small-vgg-network"
      ]
    },
    {
      "cell_type": "code",
      "metadata": {
        "id": "wsxR-RU1DP0Q"
      },
      "source": [
        "def net():\n",
        "    model = Sequential([\n",
        "        Conv2D(32, (3, 3), padding=\"same\", activation=\"relu\", input_shape=(56, 56, 1)),\n",
        "        BatchNormalization(),\n",
        "        MaxPool2D(pool_size=(3, 3)),\n",
        "        Dropout(0.25),\n",
        "        Conv2D(64, (3, 3), padding=\"same\", activation=\"relu\"),\n",
        "        BatchNormalization(),\n",
        "        Conv2D(64, (3, 3), padding=\"same\", activation=\"relu\"),\n",
        "        BatchNormalization(),\n",
        "        MaxPool2D(pool_size=(2, 2)),\n",
        "        Dropout(0.25),\n",
        "        Conv2D(128, (3, 3), padding=\"same\", activation=\"relu\"),\n",
        "        BatchNormalization(),\n",
        "        Conv2D(128, (3, 3), padding=\"same\", activation=\"relu\"),\n",
        "        BatchNormalization(),\n",
        "        MaxPool2D(pool_size=(2, 2)),\n",
        "        Dropout(0.25),\n",
        "        Flatten(),\n",
        "\t\tDense(1024),\n",
        "\t\tActivation(\"relu\"),\n",
        "\t\tBatchNormalization(),\n",
        "\t\tDropout(0.5),\n",
        "        Dense(260, activation=\"softmax\"),   # Transformations applied above require           \n",
        "    ])                                      # the output size to change from 36 to 260\n",
        "    opt = tf.keras.optimizers.Adam()# learning_rate=0.0005, decay=0.005 / 75)\n",
        "    model.compile(loss=tf.keras.losses.CategoricalCrossentropy(),\n",
        "                  optimizer=opt, metrics=['accuracy'])\n",
        "    return model"
      ],
      "execution_count": null,
      "outputs": []
    },
    {
      "cell_type": "markdown",
      "metadata": {
        "id": "r5RABnBnlx89"
      },
      "source": [
        "# Declare a Model Instance"
      ]
    },
    {
      "cell_type": "code",
      "metadata": {
        "id": "x4ZkIfm1ICpS"
      },
      "source": [
        "model = net()\n",
        "# model.summary()"
      ],
      "execution_count": null,
      "outputs": []
    },
    {
      "cell_type": "markdown",
      "metadata": {
        "id": "fFPz34lWl4e2"
      },
      "source": [
        "# Normalize & Denoise the Training Images"
      ]
    },
    {
      "cell_type": "code",
      "metadata": {
        "id": "wxZHvMttN-E0",
        "colab": {
          "base_uri": "https://localhost:8080/"
        },
        "outputId": "957f50a5-5a59-4192-9269-2011168027ca"
      },
      "source": [
        "images = images / 255.0\n",
        "images = np.apply_along_axis(lambda i: denoise(i, 0.69), 1, images)\n",
        "\n",
        "images = images.reshape(30000, 56, 56, 1)\n",
        "train_images, val_images, train_labels, val_labels = train_test_split(images, labels, train_size=0.8, \n",
        "                                                                      random_state=551, shuffle=True)\n",
        "print(train_images.shape)\n",
        "print(train_labels.shape)"
      ],
      "execution_count": null,
      "outputs": [
        {
          "output_type": "stream",
          "name": "stdout",
          "text": [
            "(24000, 56, 56, 1)\n",
            "(24000, 260)\n"
          ]
        }
      ]
    },
    {
      "cell_type": "code",
      "metadata": {
        "id": "k-Ndm9tSCpBA"
      },
      "source": [
        "ul_images = ul_images / 255.0\n",
        "ul_images = np.apply_along_axis(lambda i: denoise(i, 0.69), 1, ul_images)\n",
        "ul_images = ul_images.reshape(30000, 56, 56, 1)"
      ],
      "execution_count": null,
      "outputs": []
    },
    {
      "cell_type": "markdown",
      "metadata": {
        "id": "dEnsyP1amD0F"
      },
      "source": [
        "# Train & Employ the Model"
      ]
    },
    {
      "cell_type": "markdown",
      "metadata": {
        "id": "P4NEMZemmP9E"
      },
      "source": [
        "We choose the best performing setup, which is batch size = 16 and epochs = 75, as our primary configuration. A few alternative configurations are also included below for reference."
      ]
    },
    {
      "cell_type": "markdown",
      "metadata": {
        "id": "CWohZ8Hvn4ly"
      },
      "source": [
        "## Train the Model with the Labelled Images"
      ]
    },
    {
      "cell_type": "code",
      "metadata": {
        "colab": {
          "base_uri": "https://localhost:8080/"
        },
        "id": "rgwuR7hHBkA3",
        "outputId": "5d4c9142-9e99-418a-ad98-65c4a9f4c4d9"
      },
      "source": [
        "datagen = ImageDataGenerator(rotation_range=10)\n",
        "datagen.fit(train_images)\n",
        "fit_16_75 = model.fit(datagen.flow(train_images, train_labels, batch_size=16), epochs=75,\n",
        "                      batch_size=16, validation_data=(val_images, val_labels))"
      ],
      "execution_count": null,
      "outputs": [
        {
          "output_type": "stream",
          "name": "stdout",
          "text": [
            "Epoch 1/75\n",
            "1500/1500 [==============================] - 22s 11ms/step - loss: 0.0703 - accuracy: 0.0136 - val_loss: 0.0233 - val_accuracy: 0.0182\n",
            "Epoch 2/75\n",
            "1500/1500 [==============================] - 16s 11ms/step - loss: 0.0224 - accuracy: 0.0384 - val_loss: 0.0218 - val_accuracy: 0.0588\n",
            "Epoch 3/75\n",
            "1500/1500 [==============================] - 17s 11ms/step - loss: 0.0202 - accuracy: 0.0723 - val_loss: 0.0222 - val_accuracy: 0.0740\n",
            "Epoch 4/75\n",
            "1500/1500 [==============================] - 17s 11ms/step - loss: 0.0177 - accuracy: 0.1287 - val_loss: 0.0150 - val_accuracy: 0.2198\n",
            "Epoch 5/75\n",
            "1500/1500 [==============================] - 16s 11ms/step - loss: 0.0152 - accuracy: 0.2356 - val_loss: 0.0148 - val_accuracy: 0.2558\n",
            "Epoch 6/75\n",
            "1500/1500 [==============================] - 17s 11ms/step - loss: 0.0124 - accuracy: 0.3820 - val_loss: 0.0136 - val_accuracy: 0.4043\n",
            "Epoch 7/75\n",
            "1500/1500 [==============================] - 17s 11ms/step - loss: 0.0101 - accuracy: 0.5330 - val_loss: 0.0145 - val_accuracy: 0.4957\n",
            "Epoch 8/75\n",
            "1500/1500 [==============================] - 17s 11ms/step - loss: 0.0083 - accuracy: 0.6383 - val_loss: 0.0056 - val_accuracy: 0.7860\n",
            "Epoch 9/75\n",
            "1500/1500 [==============================] - 17s 11ms/step - loss: 0.0072 - accuracy: 0.6991 - val_loss: 0.0046 - val_accuracy: 0.8125\n",
            "Epoch 10/75\n",
            "1500/1500 [==============================] - 16s 11ms/step - loss: 0.0063 - accuracy: 0.7462 - val_loss: 0.0047 - val_accuracy: 0.8052\n",
            "Epoch 11/75\n",
            "1500/1500 [==============================] - 16s 11ms/step - loss: 0.0058 - accuracy: 0.7739 - val_loss: 0.0213 - val_accuracy: 0.5425\n",
            "Epoch 12/75\n",
            "1500/1500 [==============================] - 17s 11ms/step - loss: 0.0053 - accuracy: 0.7969 - val_loss: 0.0031 - val_accuracy: 0.8733\n",
            "Epoch 13/75\n",
            "1500/1500 [==============================] - 17s 11ms/step - loss: 0.0048 - accuracy: 0.8170 - val_loss: 0.0044 - val_accuracy: 0.8640\n",
            "Epoch 14/75\n",
            "1500/1500 [==============================] - 16s 11ms/step - loss: 0.0045 - accuracy: 0.8314 - val_loss: 0.0030 - val_accuracy: 0.8788\n",
            "Epoch 15/75\n",
            "1500/1500 [==============================] - 16s 11ms/step - loss: 0.0042 - accuracy: 0.8479 - val_loss: 0.0029 - val_accuracy: 0.8960\n",
            "Epoch 16/75\n",
            "1500/1500 [==============================] - 16s 11ms/step - loss: 0.0040 - accuracy: 0.8549 - val_loss: 0.0028 - val_accuracy: 0.8900\n",
            "Epoch 17/75\n",
            "1500/1500 [==============================] - 16s 11ms/step - loss: 0.0036 - accuracy: 0.8725 - val_loss: 0.0031 - val_accuracy: 0.8920\n",
            "Epoch 18/75\n",
            "1500/1500 [==============================] - 17s 11ms/step - loss: 0.0035 - accuracy: 0.8745 - val_loss: 0.0029 - val_accuracy: 0.9107\n",
            "Epoch 19/75\n",
            "1500/1500 [==============================] - 17s 11ms/step - loss: 0.0033 - accuracy: 0.8867 - val_loss: 0.0039 - val_accuracy: 0.8692\n",
            "Epoch 20/75\n",
            "1500/1500 [==============================] - 17s 11ms/step - loss: 0.0033 - accuracy: 0.8835 - val_loss: 0.0021 - val_accuracy: 0.9140\n",
            "Epoch 21/75\n",
            "1500/1500 [==============================] - 16s 11ms/step - loss: 0.0031 - accuracy: 0.8940 - val_loss: 0.0079 - val_accuracy: 0.7258\n",
            "Epoch 22/75\n",
            "1500/1500 [==============================] - 17s 12ms/step - loss: 0.0029 - accuracy: 0.8978 - val_loss: 0.0020 - val_accuracy: 0.9233\n",
            "Epoch 23/75\n",
            "1500/1500 [==============================] - 16s 11ms/step - loss: 0.0029 - accuracy: 0.9033 - val_loss: 0.0020 - val_accuracy: 0.9262\n",
            "Epoch 24/75\n",
            "1500/1500 [==============================] - 16s 11ms/step - loss: 0.0026 - accuracy: 0.9117 - val_loss: 0.0019 - val_accuracy: 0.9258\n",
            "Epoch 25/75\n",
            "1500/1500 [==============================] - 16s 11ms/step - loss: 0.0025 - accuracy: 0.9159 - val_loss: 0.0019 - val_accuracy: 0.9243\n",
            "Epoch 26/75\n",
            "1500/1500 [==============================] - 17s 11ms/step - loss: 0.0025 - accuracy: 0.9155 - val_loss: 0.0027 - val_accuracy: 0.9197\n",
            "Epoch 27/75\n",
            "1500/1500 [==============================] - 16s 11ms/step - loss: 0.0024 - accuracy: 0.9199 - val_loss: 0.0058 - val_accuracy: 0.7760\n",
            "Epoch 28/75\n",
            "1500/1500 [==============================] - 16s 11ms/step - loss: 0.0023 - accuracy: 0.9245 - val_loss: 0.0019 - val_accuracy: 0.9268\n",
            "Epoch 29/75\n",
            "1500/1500 [==============================] - 17s 11ms/step - loss: 0.0024 - accuracy: 0.9223 - val_loss: 0.0019 - val_accuracy: 0.9307\n",
            "Epoch 30/75\n",
            "1500/1500 [==============================] - 17s 11ms/step - loss: 0.0022 - accuracy: 0.9290 - val_loss: 0.0029 - val_accuracy: 0.9265\n",
            "Epoch 31/75\n",
            "1500/1500 [==============================] - 17s 11ms/step - loss: 0.0021 - accuracy: 0.9349 - val_loss: 0.0018 - val_accuracy: 0.9307\n",
            "Epoch 32/75\n",
            "1500/1500 [==============================] - 16s 11ms/step - loss: 0.0021 - accuracy: 0.9324 - val_loss: 0.0020 - val_accuracy: 0.9300\n",
            "Epoch 33/75\n",
            "1500/1500 [==============================] - 17s 11ms/step - loss: 0.0020 - accuracy: 0.9354 - val_loss: 0.0018 - val_accuracy: 0.9343\n",
            "Epoch 34/75\n",
            "1500/1500 [==============================] - 16s 11ms/step - loss: 0.0019 - accuracy: 0.9372 - val_loss: 0.0045 - val_accuracy: 0.9320\n",
            "Epoch 35/75\n",
            "1500/1500 [==============================] - 17s 11ms/step - loss: 0.0020 - accuracy: 0.9385 - val_loss: 0.0024 - val_accuracy: 0.9307\n",
            "Epoch 36/75\n",
            "1500/1500 [==============================] - 16s 11ms/step - loss: 0.0019 - accuracy: 0.9397 - val_loss: 0.0017 - val_accuracy: 0.9343\n",
            "Epoch 37/75\n",
            "1500/1500 [==============================] - 17s 11ms/step - loss: 0.0019 - accuracy: 0.9413 - val_loss: 0.0019 - val_accuracy: 0.9332\n",
            "Epoch 38/75\n",
            "1500/1500 [==============================] - 17s 11ms/step - loss: 0.0018 - accuracy: 0.9456 - val_loss: 0.0024 - val_accuracy: 0.9153\n",
            "Epoch 39/75\n",
            "1500/1500 [==============================] - 16s 11ms/step - loss: 0.0017 - accuracy: 0.9465 - val_loss: 0.0018 - val_accuracy: 0.9382\n",
            "Epoch 40/75\n",
            "1500/1500 [==============================] - 17s 11ms/step - loss: 0.0018 - accuracy: 0.9458 - val_loss: 0.0017 - val_accuracy: 0.9380\n",
            "Epoch 41/75\n",
            "1500/1500 [==============================] - 16s 11ms/step - loss: 0.0017 - accuracy: 0.9496 - val_loss: 0.0016 - val_accuracy: 0.9375\n",
            "Epoch 42/75\n",
            "1500/1500 [==============================] - 17s 12ms/step - loss: 0.0017 - accuracy: 0.9514 - val_loss: 0.0018 - val_accuracy: 0.9368\n",
            "Epoch 43/75\n",
            "1500/1500 [==============================] - 16s 11ms/step - loss: 0.0017 - accuracy: 0.9506 - val_loss: 0.0019 - val_accuracy: 0.9333\n",
            "Epoch 44/75\n",
            "1500/1500 [==============================] - 17s 11ms/step - loss: 0.0016 - accuracy: 0.9522 - val_loss: 0.0035 - val_accuracy: 0.9298\n",
            "Epoch 45/75\n",
            "1500/1500 [==============================] - 16s 11ms/step - loss: 0.0016 - accuracy: 0.9525 - val_loss: 0.0017 - val_accuracy: 0.9395\n",
            "Epoch 46/75\n",
            "1500/1500 [==============================] - 17s 11ms/step - loss: 0.0016 - accuracy: 0.9553 - val_loss: 0.0018 - val_accuracy: 0.9347\n",
            "Epoch 47/75\n",
            "1500/1500 [==============================] - 17s 11ms/step - loss: 0.0016 - accuracy: 0.9561 - val_loss: 0.0017 - val_accuracy: 0.9400\n",
            "Epoch 48/75\n",
            "1500/1500 [==============================] - 16s 11ms/step - loss: 0.0015 - accuracy: 0.9573 - val_loss: 0.0019 - val_accuracy: 0.9342\n",
            "Epoch 49/75\n",
            "1500/1500 [==============================] - 16s 11ms/step - loss: 0.0015 - accuracy: 0.9583 - val_loss: 0.0022 - val_accuracy: 0.9177\n",
            "Epoch 50/75\n",
            "1500/1500 [==============================] - 17s 11ms/step - loss: 0.0014 - accuracy: 0.9591 - val_loss: 0.0018 - val_accuracy: 0.9373\n",
            "Epoch 51/75\n",
            "1500/1500 [==============================] - 17s 11ms/step - loss: 0.0014 - accuracy: 0.9584 - val_loss: 0.0058 - val_accuracy: 0.8157\n",
            "Epoch 52/75\n",
            "1500/1500 [==============================] - 16s 11ms/step - loss: 0.0014 - accuracy: 0.9607 - val_loss: 0.0050 - val_accuracy: 0.8273\n",
            "Epoch 53/75\n",
            "1500/1500 [==============================] - 17s 12ms/step - loss: 0.0014 - accuracy: 0.9619 - val_loss: 0.0018 - val_accuracy: 0.9382\n",
            "Epoch 54/75\n",
            "1500/1500 [==============================] - 16s 11ms/step - loss: 0.0014 - accuracy: 0.9598 - val_loss: 0.0020 - val_accuracy: 0.9330\n",
            "Epoch 55/75\n",
            "1500/1500 [==============================] - 17s 11ms/step - loss: 0.0014 - accuracy: 0.9626 - val_loss: 0.0017 - val_accuracy: 0.9407\n",
            "Epoch 56/75\n",
            "1500/1500 [==============================] - 16s 11ms/step - loss: 0.0013 - accuracy: 0.9634 - val_loss: 0.0016 - val_accuracy: 0.9422\n",
            "Epoch 57/75\n",
            "1500/1500 [==============================] - 16s 11ms/step - loss: 0.0013 - accuracy: 0.9640 - val_loss: 0.0016 - val_accuracy: 0.9435\n",
            "Epoch 58/75\n",
            "1500/1500 [==============================] - 16s 11ms/step - loss: 0.0012 - accuracy: 0.9670 - val_loss: 0.0017 - val_accuracy: 0.9445\n",
            "Epoch 59/75\n",
            "1500/1500 [==============================] - 16s 11ms/step - loss: 0.0012 - accuracy: 0.9679 - val_loss: 0.0017 - val_accuracy: 0.9425\n",
            "Epoch 60/75\n",
            "1500/1500 [==============================] - 17s 11ms/step - loss: 0.0013 - accuracy: 0.9657 - val_loss: 0.0016 - val_accuracy: 0.9435\n",
            "Epoch 61/75\n",
            "1500/1500 [==============================] - 17s 11ms/step - loss: 0.0013 - accuracy: 0.9665 - val_loss: 0.0017 - val_accuracy: 0.9395\n",
            "Epoch 62/75\n",
            "1500/1500 [==============================] - 16s 11ms/step - loss: 0.0012 - accuracy: 0.9672 - val_loss: 0.0017 - val_accuracy: 0.9437\n",
            "Epoch 63/75\n",
            "1500/1500 [==============================] - 17s 12ms/step - loss: 0.0012 - accuracy: 0.9685 - val_loss: 0.0017 - val_accuracy: 0.9400\n",
            "Epoch 64/75\n",
            "1500/1500 [==============================] - 18s 12ms/step - loss: 0.0012 - accuracy: 0.9700 - val_loss: 0.0017 - val_accuracy: 0.9437\n",
            "Epoch 65/75\n",
            "1500/1500 [==============================] - 17s 11ms/step - loss: 0.0012 - accuracy: 0.9688 - val_loss: 0.0016 - val_accuracy: 0.9448\n",
            "Epoch 66/75\n",
            "1500/1500 [==============================] - 16s 11ms/step - loss: 0.0011 - accuracy: 0.9705 - val_loss: 0.0018 - val_accuracy: 0.9383\n",
            "Epoch 67/75\n",
            "1500/1500 [==============================] - 17s 11ms/step - loss: 0.0011 - accuracy: 0.9703 - val_loss: 0.0016 - val_accuracy: 0.9463\n",
            "Epoch 68/75\n",
            "1500/1500 [==============================] - 17s 11ms/step - loss: 0.0011 - accuracy: 0.9701 - val_loss: 0.0017 - val_accuracy: 0.9427\n",
            "Epoch 69/75\n",
            "1500/1500 [==============================] - 17s 11ms/step - loss: 0.0011 - accuracy: 0.9703 - val_loss: 0.0018 - val_accuracy: 0.9417\n",
            "Epoch 70/75\n",
            "1500/1500 [==============================] - 17s 11ms/step - loss: 0.0011 - accuracy: 0.9710 - val_loss: 0.0017 - val_accuracy: 0.9468\n",
            "Epoch 71/75\n",
            "1500/1500 [==============================] - 17s 11ms/step - loss: 0.0011 - accuracy: 0.9699 - val_loss: 0.0016 - val_accuracy: 0.9460\n",
            "Epoch 72/75\n",
            "1500/1500 [==============================] - 17s 11ms/step - loss: 0.0011 - accuracy: 0.9730 - val_loss: 0.0017 - val_accuracy: 0.9455\n",
            "Epoch 73/75\n",
            "1500/1500 [==============================] - 17s 11ms/step - loss: 0.0010 - accuracy: 0.9744 - val_loss: 0.0017 - val_accuracy: 0.9432\n",
            "Epoch 74/75\n",
            "1500/1500 [==============================] - 17s 11ms/step - loss: 0.0010 - accuracy: 0.9754 - val_loss: 0.0016 - val_accuracy: 0.9477\n",
            "Epoch 75/75\n",
            "1500/1500 [==============================] - 17s 11ms/step - loss: 0.0010 - accuracy: 0.9751 - val_loss: 0.0016 - val_accuracy: 0.9462\n"
          ]
        }
      ]
    },
    {
      "cell_type": "markdown",
      "metadata": {
        "id": "sNRW3QHYoFjG"
      },
      "source": [
        "## Loss & Accuracy VS. Epoch Plots"
      ]
    },
    {
      "cell_type": "code",
      "metadata": {
        "id": "cXvEQ6rfwgzy",
        "colab": {
          "base_uri": "https://localhost:8080/"
        },
        "outputId": "2b545782-81a0-43ee-d7a7-93a0bef2be02"
      },
      "source": [
        "x_axis = np.arange(75)\n",
        "plt.plot(x_axis, fit_16_75.history[\"loss\"], label = \"Training Loss\")\n",
        "plt.plot(x_axis, fit_16_75.history[\"val_loss\"], label = \"Validation Loss\")\n",
        "plt.xlabel(\"Epoch\")\n",
        "plt.ylabel(\"Loss\")\n",
        "plt.legend()\n",
        "plt.show()\n",
        "\n",
        "plt.plot(x_axis, fit_16_75.history[\"accuracy\"], label = \"Training Accuracy\")\n",
        "plt.plot(x_axis, fit_16_75.history[\"val_accuracy\"], label = \"Validation Accuracy\")\n",
        "plt.xlabel(\"Epoch\")\n",
        "plt.ylabel(\"Accuracy\")\n",
        "plt.legend()\n",
        "plt.show()"
      ],
      "execution_count": null,
      "outputs": [
        {
          "output_type": "display_data",
          "data": {
            "image/png": "[encoded data removed]",
            "text/plain": [
              "<Figure size 432x288 with 1 Axes>"
            ]
          },
          "metadata": {
            "needs_background": "light"
          }
        },
        {
          "output_type": "display_data",
          "data": {
            "image/png": "[encoded data removed]",
            "text/plain": [
              "<Figure size 432x288 with 1 Axes>"
            ]
          },
          "metadata": {
            "needs_background": "light"
          }
        }
      ]
    },
    {
      "cell_type": "markdown",
      "metadata": {
        "id": "SKcG8rUpoO8F"
      },
      "source": [
        "## Make Use of the Unlabelled Images"
      ]
    },
    {
      "cell_type": "markdown",
      "metadata": {
        "id": "IjKQxMMSopI7"
      },
      "source": [
        "Draw predictions on the unlabelled images and use the prediction to supplement the training set."
      ]
    },
    {
      "cell_type": "code",
      "metadata": {
        "colab": {
          "base_uri": "https://localhost:8080/"
        },
        "id": "ifzhIYtwLMon",
        "outputId": "fceb4e94-132c-46a6-9ddc-c49befc16fc2"
      },
      "source": [
        "ul_pred = model.predict(ul_images)\n",
        "model = net()\n",
        "new_train = np.append(images, ul_images, axis=0)\n",
        "new_label = np.append(labels, ul_pred,axis=0)\n",
        "ti, vi, tl, vl = train_test_split(new_train, new_label, train_size=0.8, \n",
        "                 random_state=551, shuffle=True)\n",
        "\n",
        "datagen = ImageDataGenerator(rotation_range=10)\n",
        "datagen.fit(ti)\n",
        "fit_with_ul = model.fit(datagen.flow(ti, tl, batch_size=16), epochs=75,\n",
        "                        batch_size=16, validation_data=(vi, vl))\n"
      ],
      "execution_count": null,
      "outputs": [
        {
          "output_type": "stream",
          "name": "stdout",
          "text": [
            "Epoch 1/75\n",
            "3000/3000 [==============================] - 34s 11ms/step - loss: 0.0463 - accuracy: 0.0196 - val_loss: 0.0275 - val_accuracy: 0.0184\n",
            "Epoch 2/75\n",
            "3000/3000 [==============================] - 32s 11ms/step - loss: 0.0206 - accuracy: 0.0663 - val_loss: 0.0170 - val_accuracy: 0.1218\n",
            "Epoch 3/75\n",
            "3000/3000 [==============================] - 34s 11ms/step - loss: 0.0154 - accuracy: 0.2183 - val_loss: 0.0109 - val_accuracy: 0.4377\n",
            "Epoch 4/75\n",
            "3000/3000 [==============================] - 32s 11ms/step - loss: 0.0102 - accuracy: 0.5144 - val_loss: 0.0090 - val_accuracy: 0.6274\n",
            "Epoch 5/75\n",
            "3000/3000 [==============================] - 35s 12ms/step - loss: 0.0071 - accuracy: 0.6998 - val_loss: 0.0035 - val_accuracy: 0.8716\n",
            "Epoch 6/75\n",
            "3000/3000 [==============================] - 33s 11ms/step - loss: 0.0056 - accuracy: 0.7789 - val_loss: 0.0043 - val_accuracy: 0.8267\n",
            "Epoch 7/75\n",
            "3000/3000 [==============================] - 33s 11ms/step - loss: 0.0048 - accuracy: 0.8152 - val_loss: 0.0086 - val_accuracy: 0.6727\n",
            "Epoch 8/75\n",
            "3000/3000 [==============================] - 33s 11ms/step - loss: 0.0042 - accuracy: 0.8435 - val_loss: 0.0024 - val_accuracy: 0.9074\n",
            "Epoch 9/75\n",
            "3000/3000 [==============================] - 34s 11ms/step - loss: 0.0039 - accuracy: 0.8606 - val_loss: 0.0056 - val_accuracy: 0.7618\n",
            "Epoch 10/75\n",
            "3000/3000 [==============================] - 32s 11ms/step - loss: 0.0035 - accuracy: 0.8746 - val_loss: 0.0018 - val_accuracy: 0.9302\n",
            "Epoch 11/75\n",
            "3000/3000 [==============================] - 32s 11ms/step - loss: 0.0033 - accuracy: 0.8836 - val_loss: 0.0061 - val_accuracy: 0.7599\n",
            "Epoch 12/75\n",
            "3000/3000 [==============================] - 34s 11ms/step - loss: 0.0030 - accuracy: 0.8924 - val_loss: 0.0033 - val_accuracy: 0.8638\n",
            "Epoch 13/75\n",
            "3000/3000 [==============================] - 34s 11ms/step - loss: 0.0029 - accuracy: 0.9003 - val_loss: 0.0015 - val_accuracy: 0.9448\n",
            "Epoch 14/75\n",
            "3000/3000 [==============================] - 33s 11ms/step - loss: 0.0027 - accuracy: 0.9064 - val_loss: 0.0028 - val_accuracy: 0.9062\n",
            "Epoch 15/75\n",
            "3000/3000 [==============================] - 33s 11ms/step - loss: 0.0026 - accuracy: 0.9114 - val_loss: 0.0014 - val_accuracy: 0.9487\n",
            "Epoch 16/75\n",
            "3000/3000 [==============================] - 32s 11ms/step - loss: 0.0025 - accuracy: 0.9139 - val_loss: 0.0030 - val_accuracy: 0.8919\n",
            "Epoch 17/75\n",
            "3000/3000 [==============================] - 34s 11ms/step - loss: 0.0024 - accuracy: 0.9186 - val_loss: 0.0015 - val_accuracy: 0.9457\n",
            "Epoch 18/75\n",
            "3000/3000 [==============================] - 32s 11ms/step - loss: 0.0024 - accuracy: 0.9203 - val_loss: 0.0016 - val_accuracy: 0.9427\n",
            "Epoch 19/75\n",
            "3000/3000 [==============================] - 34s 11ms/step - loss: 0.0023 - accuracy: 0.9244 - val_loss: 0.0014 - val_accuracy: 0.9475\n",
            "Epoch 20/75\n",
            "3000/3000 [==============================] - 32s 11ms/step - loss: 0.0022 - accuracy: 0.9274 - val_loss: 0.0015 - val_accuracy: 0.9464\n",
            "Epoch 21/75\n",
            "3000/3000 [==============================] - 32s 11ms/step - loss: 0.0022 - accuracy: 0.9274 - val_loss: 0.0014 - val_accuracy: 0.9528\n",
            "Epoch 22/75\n",
            "3000/3000 [==============================] - 33s 11ms/step - loss: 0.0021 - accuracy: 0.9308 - val_loss: 0.0016 - val_accuracy: 0.9421\n",
            "Epoch 23/75\n",
            "3000/3000 [==============================] - 33s 11ms/step - loss: 0.0020 - accuracy: 0.9324 - val_loss: 0.0013 - val_accuracy: 0.9542\n",
            "Epoch 24/75\n",
            "3000/3000 [==============================] - 33s 11ms/step - loss: 0.0020 - accuracy: 0.9351 - val_loss: 0.0051 - val_accuracy: 0.8221\n",
            "Epoch 25/75\n",
            "3000/3000 [==============================] - 34s 11ms/step - loss: 0.0019 - accuracy: 0.9363 - val_loss: 0.0014 - val_accuracy: 0.9467\n",
            "Epoch 26/75\n",
            "3000/3000 [==============================] - 32s 11ms/step - loss: 0.0019 - accuracy: 0.9385 - val_loss: 0.0021 - val_accuracy: 0.9310\n",
            "Epoch 27/75\n",
            "3000/3000 [==============================] - 33s 11ms/step - loss: 0.0019 - accuracy: 0.9402 - val_loss: 0.0013 - val_accuracy: 0.9563\n",
            "Epoch 28/75\n",
            "3000/3000 [==============================] - 32s 11ms/step - loss: 0.0019 - accuracy: 0.9396 - val_loss: 0.0015 - val_accuracy: 0.9473\n",
            "Epoch 29/75\n",
            "3000/3000 [==============================] - 34s 11ms/step - loss: 0.0018 - accuracy: 0.9406 - val_loss: 0.0014 - val_accuracy: 0.9530\n",
            "Epoch 30/75\n",
            "3000/3000 [==============================] - 34s 11ms/step - loss: 0.0018 - accuracy: 0.9438 - val_loss: 0.0057 - val_accuracy: 0.8116\n",
            "Epoch 31/75\n",
            "3000/3000 [==============================] - 35s 12ms/step - loss: 0.0018 - accuracy: 0.9450 - val_loss: 0.0013 - val_accuracy: 0.9542\n",
            "Epoch 32/75\n",
            "3000/3000 [==============================] - 33s 11ms/step - loss: 0.0017 - accuracy: 0.9469 - val_loss: 0.0012 - val_accuracy: 0.9597\n",
            "Epoch 33/75\n",
            "3000/3000 [==============================] - 33s 11ms/step - loss: 0.0017 - accuracy: 0.9460 - val_loss: 0.0086 - val_accuracy: 0.7050\n",
            "Epoch 34/75\n",
            "3000/3000 [==============================] - 33s 11ms/step - loss: 0.0017 - accuracy: 0.9463 - val_loss: 0.0013 - val_accuracy: 0.9554\n",
            "Epoch 35/75\n",
            "3000/3000 [==============================] - 32s 11ms/step - loss: 0.0017 - accuracy: 0.9475 - val_loss: 0.0014 - val_accuracy: 0.9548\n",
            "Epoch 36/75\n",
            "3000/3000 [==============================] - 33s 11ms/step - loss: 0.0017 - accuracy: 0.9487 - val_loss: 0.0013 - val_accuracy: 0.9538\n",
            "Epoch 37/75\n",
            "3000/3000 [==============================] - 33s 11ms/step - loss: 0.0016 - accuracy: 0.9479 - val_loss: 0.0014 - val_accuracy: 0.9536\n",
            "Epoch 38/75\n",
            "3000/3000 [==============================] - 34s 11ms/step - loss: 0.0016 - accuracy: 0.9491 - val_loss: 0.0013 - val_accuracy: 0.9557\n",
            "Epoch 39/75\n",
            "3000/3000 [==============================] - 32s 11ms/step - loss: 0.0016 - accuracy: 0.9507 - val_loss: 0.0013 - val_accuracy: 0.9572\n",
            "Epoch 40/75\n",
            "3000/3000 [==============================] - 34s 11ms/step - loss: 0.0016 - accuracy: 0.9525 - val_loss: 0.0013 - val_accuracy: 0.9592\n",
            "Epoch 41/75\n",
            "3000/3000 [==============================] - 33s 11ms/step - loss: 0.0016 - accuracy: 0.9500 - val_loss: 0.0013 - val_accuracy: 0.9590\n",
            "Epoch 42/75\n",
            "3000/3000 [==============================] - 34s 11ms/step - loss: 0.0015 - accuracy: 0.9523 - val_loss: 0.0013 - val_accuracy: 0.9561\n",
            "Epoch 43/75\n",
            "3000/3000 [==============================] - 34s 11ms/step - loss: 0.0015 - accuracy: 0.9526 - val_loss: 0.0016 - val_accuracy: 0.9463\n",
            "Epoch 44/75\n",
            "3000/3000 [==============================] - 33s 11ms/step - loss: 0.0015 - accuracy: 0.9532 - val_loss: 0.0013 - val_accuracy: 0.9563\n",
            "Epoch 45/75\n",
            "3000/3000 [==============================] - 33s 11ms/step - loss: 0.0015 - accuracy: 0.9546 - val_loss: 0.0012 - val_accuracy: 0.9578\n",
            "Epoch 46/75\n",
            "3000/3000 [==============================] - 33s 11ms/step - loss: 0.0015 - accuracy: 0.9544 - val_loss: 0.0068 - val_accuracy: 0.7707\n",
            "Epoch 47/75\n",
            "3000/3000 [==============================] - 33s 11ms/step - loss: 0.0015 - accuracy: 0.9564 - val_loss: 0.0012 - val_accuracy: 0.9605\n",
            "Epoch 48/75\n",
            "3000/3000 [==============================] - 34s 11ms/step - loss: 0.0015 - accuracy: 0.9551 - val_loss: 0.0013 - val_accuracy: 0.9579\n",
            "Epoch 49/75\n",
            "3000/3000 [==============================] - 33s 11ms/step - loss: 0.0014 - accuracy: 0.9578 - val_loss: 0.0013 - val_accuracy: 0.9572\n",
            "Epoch 50/75\n",
            "3000/3000 [==============================] - 33s 11ms/step - loss: 0.0014 - accuracy: 0.9573 - val_loss: 0.0018 - val_accuracy: 0.9456\n",
            "Epoch 51/75\n",
            "3000/3000 [==============================] - 33s 11ms/step - loss: 0.0014 - accuracy: 0.9586 - val_loss: 0.0013 - val_accuracy: 0.9584\n",
            "Epoch 52/75\n",
            "3000/3000 [==============================] - 34s 11ms/step - loss: 0.0014 - accuracy: 0.9576 - val_loss: 0.0013 - val_accuracy: 0.9584\n",
            "Epoch 53/75\n",
            "3000/3000 [==============================] - 32s 11ms/step - loss: 0.0014 - accuracy: 0.9580 - val_loss: 0.0014 - val_accuracy: 0.9563\n",
            "Epoch 54/75\n",
            "3000/3000 [==============================] - 34s 11ms/step - loss: 0.0014 - accuracy: 0.9604 - val_loss: 0.0013 - val_accuracy: 0.9597\n",
            "Epoch 55/75\n",
            "3000/3000 [==============================] - 34s 11ms/step - loss: 0.0014 - accuracy: 0.9587 - val_loss: 0.0012 - val_accuracy: 0.9609\n",
            "Epoch 56/75\n",
            "3000/3000 [==============================] - 34s 11ms/step - loss: 0.0014 - accuracy: 0.9593 - val_loss: 0.0013 - val_accuracy: 0.9595\n",
            "Epoch 57/75\n",
            "3000/3000 [==============================] - 32s 11ms/step - loss: 0.0014 - accuracy: 0.9593 - val_loss: 0.0012 - val_accuracy: 0.9622\n",
            "Epoch 58/75\n",
            "3000/3000 [==============================] - 34s 11ms/step - loss: 0.0013 - accuracy: 0.9604 - val_loss: 0.0012 - val_accuracy: 0.9603\n",
            "Epoch 59/75\n",
            "3000/3000 [==============================] - 33s 11ms/step - loss: 0.0013 - accuracy: 0.9609 - val_loss: 0.0012 - val_accuracy: 0.9586\n",
            "Epoch 60/75\n",
            "3000/3000 [==============================] - 32s 11ms/step - loss: 0.0013 - accuracy: 0.9609 - val_loss: 0.0012 - val_accuracy: 0.9613\n",
            "Epoch 61/75\n",
            "3000/3000 [==============================] - 33s 11ms/step - loss: 0.0013 - accuracy: 0.9604 - val_loss: 0.0012 - val_accuracy: 0.9582\n",
            "Epoch 62/75\n",
            "3000/3000 [==============================] - 33s 11ms/step - loss: 0.0013 - accuracy: 0.9617 - val_loss: 0.0013 - val_accuracy: 0.9609\n",
            "Epoch 63/75\n",
            "3000/3000 [==============================] - 33s 11ms/step - loss: 0.0013 - accuracy: 0.9618 - val_loss: 0.0063 - val_accuracy: 0.7981\n",
            "Epoch 64/75\n",
            "3000/3000 [==============================] - 34s 11ms/step - loss: 0.0013 - accuracy: 0.9621 - val_loss: 0.0012 - val_accuracy: 0.9607\n",
            "Epoch 65/75\n",
            "3000/3000 [==============================] - 33s 11ms/step - loss: 0.0013 - accuracy: 0.9634 - val_loss: 0.0013 - val_accuracy: 0.9610\n",
            "Epoch 66/75\n",
            "3000/3000 [==============================] - 34s 11ms/step - loss: 0.0013 - accuracy: 0.9616 - val_loss: 0.0012 - val_accuracy: 0.9613\n",
            "Epoch 67/75\n",
            "3000/3000 [==============================] - 33s 11ms/step - loss: 0.0013 - accuracy: 0.9617 - val_loss: 0.0013 - val_accuracy: 0.9577\n",
            "Epoch 68/75\n",
            "3000/3000 [==============================] - 33s 11ms/step - loss: 0.0013 - accuracy: 0.9636 - val_loss: 0.0013 - val_accuracy: 0.9606\n",
            "Epoch 69/75\n",
            "3000/3000 [==============================] - 33s 11ms/step - loss: 0.0013 - accuracy: 0.9645 - val_loss: 0.0012 - val_accuracy: 0.9604\n",
            "Epoch 70/75\n",
            "3000/3000 [==============================] - 32s 11ms/step - loss: 0.0013 - accuracy: 0.9639 - val_loss: 0.0012 - val_accuracy: 0.9603\n",
            "Epoch 71/75\n",
            "3000/3000 [==============================] - 35s 12ms/step - loss: 0.0012 - accuracy: 0.9631 - val_loss: 0.0012 - val_accuracy: 0.9607\n",
            "Epoch 72/75\n",
            "3000/3000 [==============================] - 34s 11ms/step - loss: 0.0013 - accuracy: 0.9647 - val_loss: 0.0012 - val_accuracy: 0.9634\n",
            "Epoch 73/75\n",
            "3000/3000 [==============================] - 35s 12ms/step - loss: 0.0012 - accuracy: 0.9643 - val_loss: 0.0012 - val_accuracy: 0.9609\n",
            "Epoch 74/75\n",
            "3000/3000 [==============================] - 33s 11ms/step - loss: 0.0013 - accuracy: 0.9643 - val_loss: 0.0012 - val_accuracy: 0.9628\n",
            "Epoch 75/75\n",
            "3000/3000 [==============================] - 33s 11ms/step - loss: 0.0012 - accuracy: 0.9649 - val_loss: 0.0012 - val_accuracy: 0.9613\n"
          ]
        }
      ]
    },
    {
      "cell_type": "markdown",
      "metadata": {
        "id": "WBX_j2SZo2no"
      },
      "source": [
        "# Alternative Configurations "
      ]
    },
    {
      "cell_type": "markdown",
      "metadata": {
        "id": "2ghNhmm5s9fZ"
      },
      "source": [
        "Do not run both the configurations in this section and the primary configuration above, otherwise the models will overwrite each other."
      ]
    },
    {
      "cell_type": "markdown",
      "metadata": {
        "id": "Aig2qcHfo70M"
      },
      "source": [
        "## Batch Size = 16, Epochs = 50"
      ]
    },
    {
      "cell_type": "code",
      "metadata": {
        "colab": {
          "base_uri": "https://localhost:8080/"
        },
        "id": "eZFAsfQCv9d7",
        "outputId": "8a4aba90-df3d-46c5-c224-ffefbdd89bb6"
      },
      "source": [
        "model = net()\n",
        "fit_16_50 = model.fit(train_images, train_labels, batch_size=16, epochs=50,\n",
        "                      validation_data=(val_images, val_labels))"
      ],
      "execution_count": null,
      "outputs": [
        {
          "output_type": "stream",
          "name": "stdout",
          "text": [
            "Epoch 1/50\n",
            "1500/1500 [==============================] - 10s 6ms/step - loss: 0.1135 - accuracy: 0.0117 - val_loss: 0.0286 - val_accuracy: 0.0150\n",
            "Epoch 2/50\n",
            "1500/1500 [==============================] - 8s 6ms/step - loss: 0.0227 - accuracy: 0.0272 - val_loss: 0.0345 - val_accuracy: 0.0183\n",
            "Epoch 3/50\n",
            "1500/1500 [==============================] - 9s 6ms/step - loss: 0.0212 - accuracy: 0.0382 - val_loss: 0.0221 - val_accuracy: 0.0322\n",
            "Epoch 4/50\n",
            "1500/1500 [==============================] - 9s 6ms/step - loss: 0.0201 - accuracy: 0.0547 - val_loss: 0.0203 - val_accuracy: 0.0493\n",
            "Epoch 5/50\n",
            "1500/1500 [==============================] - 9s 6ms/step - loss: 0.0190 - accuracy: 0.0763 - val_loss: 0.0194 - val_accuracy: 0.0618\n",
            "Epoch 6/50\n",
            "1500/1500 [==============================] - 9s 6ms/step - loss: 0.0174 - accuracy: 0.1216 - val_loss: 0.0152 - val_accuracy: 0.1737\n",
            "Epoch 7/50\n",
            "1500/1500 [==============================] - 9s 6ms/step - loss: 0.0158 - accuracy: 0.1944 - val_loss: 0.0135 - val_accuracy: 0.2850\n",
            "Epoch 8/50\n",
            "1500/1500 [==============================] - 9s 6ms/step - loss: 0.0140 - accuracy: 0.2920 - val_loss: 0.0110 - val_accuracy: 0.4303\n",
            "Epoch 9/50\n",
            "1500/1500 [==============================] - 9s 6ms/step - loss: 0.0120 - accuracy: 0.4189 - val_loss: 0.0088 - val_accuracy: 0.5887\n",
            "Epoch 10/50\n",
            "1500/1500 [==============================] - 9s 6ms/step - loss: 0.0103 - accuracy: 0.5351 - val_loss: 0.0076 - val_accuracy: 0.6780\n",
            "Epoch 11/50\n",
            "1500/1500 [==============================] - 9s 6ms/step - loss: 0.0089 - accuracy: 0.6201 - val_loss: 0.0068 - val_accuracy: 0.7442\n",
            "Epoch 12/50\n",
            "1500/1500 [==============================] - 9s 6ms/step - loss: 0.0077 - accuracy: 0.6870 - val_loss: 0.0052 - val_accuracy: 0.8035\n",
            "Epoch 13/50\n",
            "1500/1500 [==============================] - 9s 6ms/step - loss: 0.0068 - accuracy: 0.7362 - val_loss: 0.0051 - val_accuracy: 0.8217\n",
            "Epoch 14/50\n",
            "1500/1500 [==============================] - 9s 6ms/step - loss: 0.0061 - accuracy: 0.7734 - val_loss: 0.0040 - val_accuracy: 0.8533\n",
            "Epoch 15/50\n",
            "1500/1500 [==============================] - 9s 6ms/step - loss: 0.0055 - accuracy: 0.8014 - val_loss: 0.0043 - val_accuracy: 0.8612\n",
            "Epoch 16/50\n",
            "1500/1500 [==============================] - 9s 6ms/step - loss: 0.0050 - accuracy: 0.8221 - val_loss: 0.0032 - val_accuracy: 0.8828\n",
            "Epoch 17/50\n",
            "1500/1500 [==============================] - 9s 6ms/step - loss: 0.0047 - accuracy: 0.8342 - val_loss: 0.0030 - val_accuracy: 0.8923\n",
            "Epoch 18/50\n",
            "1500/1500 [==============================] - 9s 6ms/step - loss: 0.0043 - accuracy: 0.8539 - val_loss: 0.0037 - val_accuracy: 0.8788\n",
            "Epoch 19/50\n",
            "1500/1500 [==============================] - 8s 6ms/step - loss: 0.0040 - accuracy: 0.8655 - val_loss: 0.0054 - val_accuracy: 0.7968\n",
            "Epoch 20/50\n",
            "1500/1500 [==============================] - 9s 6ms/step - loss: 0.0037 - accuracy: 0.8785 - val_loss: 0.0026 - val_accuracy: 0.9015\n",
            "Epoch 21/50\n",
            "1500/1500 [==============================] - 9s 6ms/step - loss: 0.0035 - accuracy: 0.8846 - val_loss: 0.0032 - val_accuracy: 0.8815\n",
            "Epoch 22/50\n",
            "1500/1500 [==============================] - 9s 6ms/step - loss: 0.0034 - accuracy: 0.8940 - val_loss: 0.0028 - val_accuracy: 0.9058\n",
            "Epoch 23/50\n",
            "1500/1500 [==============================] - 9s 6ms/step - loss: 0.0032 - accuracy: 0.9030 - val_loss: 0.0022 - val_accuracy: 0.9163\n",
            "Epoch 24/50\n",
            "1500/1500 [==============================] - 9s 6ms/step - loss: 0.0030 - accuracy: 0.9080 - val_loss: 0.0022 - val_accuracy: 0.9158\n",
            "Epoch 25/50\n",
            "1500/1500 [==============================] - 9s 6ms/step - loss: 0.0029 - accuracy: 0.9135 - val_loss: 0.0024 - val_accuracy: 0.9148\n",
            "Epoch 26/50\n",
            "1500/1500 [==============================] - 9s 6ms/step - loss: 0.0027 - accuracy: 0.9178 - val_loss: 0.0024 - val_accuracy: 0.9120\n",
            "Epoch 27/50\n",
            "1500/1500 [==============================] - 9s 6ms/step - loss: 0.0025 - accuracy: 0.9257 - val_loss: 0.0020 - val_accuracy: 0.9207\n",
            "Epoch 28/50\n",
            "1500/1500 [==============================] - 9s 6ms/step - loss: 0.0025 - accuracy: 0.9267 - val_loss: 0.0020 - val_accuracy: 0.9230\n",
            "Epoch 29/50\n",
            "1500/1500 [==============================] - 9s 6ms/step - loss: 0.0023 - accuracy: 0.9344 - val_loss: 0.0020 - val_accuracy: 0.9258\n",
            "Epoch 30/50\n",
            "1500/1500 [==============================] - 9s 6ms/step - loss: 0.0023 - accuracy: 0.9370 - val_loss: 0.0020 - val_accuracy: 0.9245\n",
            "Epoch 31/50\n",
            "1500/1500 [==============================] - 9s 6ms/step - loss: 0.0022 - accuracy: 0.9387 - val_loss: 0.0020 - val_accuracy: 0.9250\n",
            "Epoch 32/50\n",
            "1500/1500 [==============================] - 9s 6ms/step - loss: 0.0021 - accuracy: 0.9418 - val_loss: 0.0019 - val_accuracy: 0.9260\n",
            "Epoch 33/50\n",
            "1500/1500 [==============================] - 9s 6ms/step - loss: 0.0020 - accuracy: 0.9455 - val_loss: 0.0020 - val_accuracy: 0.9263\n",
            "Epoch 34/50\n",
            "1500/1500 [==============================] - 9s 6ms/step - loss: 0.0020 - accuracy: 0.9465 - val_loss: 0.0018 - val_accuracy: 0.9290\n",
            "Epoch 35/50\n",
            "1500/1500 [==============================] - 9s 6ms/step - loss: 0.0019 - accuracy: 0.9488 - val_loss: 0.0020 - val_accuracy: 0.9258\n",
            "Epoch 36/50\n",
            "1500/1500 [==============================] - 9s 6ms/step - loss: 0.0018 - accuracy: 0.9513 - val_loss: 0.0018 - val_accuracy: 0.9322\n",
            "Epoch 37/50\n",
            "1500/1500 [==============================] - 10s 6ms/step - loss: 0.0018 - accuracy: 0.9523 - val_loss: 0.0018 - val_accuracy: 0.9298\n",
            "Epoch 38/50\n",
            "1500/1500 [==============================] - 9s 6ms/step - loss: 0.0017 - accuracy: 0.9568 - val_loss: 0.0019 - val_accuracy: 0.9303\n",
            "Epoch 39/50\n",
            "1500/1500 [==============================] - 9s 6ms/step - loss: 0.0017 - accuracy: 0.9580 - val_loss: 0.0018 - val_accuracy: 0.9318\n",
            "Epoch 40/50\n",
            "1500/1500 [==============================] - 9s 6ms/step - loss: 0.0016 - accuracy: 0.9579 - val_loss: 0.0017 - val_accuracy: 0.9338\n",
            "Epoch 41/50\n",
            "1500/1500 [==============================] - 9s 6ms/step - loss: 0.0015 - accuracy: 0.9625 - val_loss: 0.0018 - val_accuracy: 0.9353\n",
            "Epoch 42/50\n",
            "1500/1500 [==============================] - 9s 6ms/step - loss: 0.0015 - accuracy: 0.9635 - val_loss: 0.0018 - val_accuracy: 0.9313\n",
            "Epoch 43/50\n",
            "1500/1500 [==============================] - 9s 6ms/step - loss: 0.0015 - accuracy: 0.9638 - val_loss: 0.0019 - val_accuracy: 0.9320\n",
            "Epoch 44/50\n",
            "1500/1500 [==============================] - 9s 6ms/step - loss: 0.0015 - accuracy: 0.9650 - val_loss: 0.0018 - val_accuracy: 0.9347\n",
            "Epoch 45/50\n",
            "1500/1500 [==============================] - 9s 6ms/step - loss: 0.0014 - accuracy: 0.9643 - val_loss: 0.0018 - val_accuracy: 0.9370\n",
            "Epoch 46/50\n",
            "1500/1500 [==============================] - 9s 6ms/step - loss: 0.0014 - accuracy: 0.9685 - val_loss: 0.0018 - val_accuracy: 0.9345\n",
            "Epoch 47/50\n",
            "1500/1500 [==============================] - 9s 6ms/step - loss: 0.0013 - accuracy: 0.9698 - val_loss: 0.0018 - val_accuracy: 0.9358\n",
            "Epoch 48/50\n",
            "1500/1500 [==============================] - 9s 6ms/step - loss: 0.0013 - accuracy: 0.9695 - val_loss: 0.0020 - val_accuracy: 0.9268\n",
            "Epoch 49/50\n",
            "1500/1500 [==============================] - 9s 6ms/step - loss: 0.0013 - accuracy: 0.9707 - val_loss: 0.0017 - val_accuracy: 0.9338\n",
            "Epoch 50/50\n",
            "1500/1500 [==============================] - 10s 6ms/step - loss: 0.0013 - accuracy: 0.9703 - val_loss: 0.0017 - val_accuracy: 0.9358\n"
          ]
        }
      ]
    },
    {
      "cell_type": "code",
      "metadata": {
        "colab": {
          "base_uri": "https://localhost:8080/",
          "height": 541
        },
        "id": "509ZsF3Wv_I0",
        "outputId": "60adf65e-4f94-4876-fc6b-a1a7b3f6a6dc"
      },
      "source": [
        "x_axis = np.arange(50)\n",
        "plt.plot(x_axis, fit_16_50.history[\"loss\"], label = \"Training Loss\")\n",
        "plt.plot(x_axis, fit_16_50.history[\"val_loss\"], label = \"Validation Loss\")\n",
        "plt.xlabel(\"Epoch\")\n",
        "plt.ylabel(\"Loss\")\n",
        "plt.legend()\n",
        "plt.show()\n",
        "\n",
        "plt.plot(x_axis, fit_16_50.history[\"accuracy\"], label = \"Training Accuracy\")\n",
        "plt.plot(x_axis, fit_16_50.history[\"val_accuracy\"], label = \"Validation Accuracy\")\n",
        "plt.xlabel(\"Epoch\")\n",
        "plt.ylabel(\"Accuracy\")\n",
        "plt.legend()\n",
        "plt.show()"
      ],
      "execution_count": null,
      "outputs": [
        {
          "output_type": "display_data",
          "data": {
            "image/png": "[encoded data removed]",
            "text/plain": [
              "<Figure size 432x288 with 1 Axes>"
            ]
          },
          "metadata": {
            "needs_background": "light"
          }
        },
        {
          "output_type": "display_data",
          "data": {
            "image/png": "[encoded data removed]",
            "text/plain": [
              "<Figure size 432x288 with 1 Axes>"
            ]
          },
          "metadata": {
            "needs_background": "light"
          }
        }
      ]
    },
    {
      "cell_type": "markdown",
      "metadata": {
        "id": "QBTnyB6NpDdw"
      },
      "source": [
        "## Batch Size = 32, Epochs = 50"
      ]
    },
    {
      "cell_type": "code",
      "metadata": {
        "colab": {
          "base_uri": "https://localhost:8080/",
          "height": 1000
        },
        "id": "p55vxR2DyB0l",
        "outputId": "3f5c4441-affa-4fca-a38a-d8a1f66ff849"
      },
      "source": [
        "model = net()\n",
        "fit_32_50 = model.fit(train_images, train_labels, batch_size=32, epochs=50,\n",
        "                      validation_data=(val_images, val_labels))\n",
        "x_axis = np.arange(50)\n",
        "plt.plot(x_axis, fit_32_50.history[\"loss\"], label = \"Training Loss\")\n",
        "plt.plot(x_axis, fit_32_50.history[\"val_loss\"], label = \"Validation Loss\")\n",
        "plt.xlabel(\"Epoch\")\n",
        "plt.ylabel(\"Loss\")\n",
        "plt.legend()\n",
        "plt.show()\n",
        "\n",
        "plt.plot(x_axis, fit_32_50.history[\"accuracy\"], label = \"Training Accuracy\")\n",
        "plt.plot(x_axis, fit_32_50.history[\"val_accuracy\"], label = \"Validation Accuracy\")\n",
        "plt.xlabel(\"Epoch\")\n",
        "plt.ylabel(\"Accuracy\")\n",
        "plt.legend()\n",
        "plt.show()"
      ],
      "execution_count": null,
      "outputs": [
        {
          "output_type": "stream",
          "name": "stdout",
          "text": [
            "Epoch 1/50\n",
            "750/750 [==============================] - 7s 8ms/step - loss: 0.1919 - accuracy: 0.0063 - val_loss: 0.0267 - val_accuracy: 0.0102\n",
            "Epoch 2/50\n",
            "750/750 [==============================] - 5s 7ms/step - loss: 0.0250 - accuracy: 0.0185 - val_loss: 0.0333 - val_accuracy: 0.0158\n",
            "Epoch 3/50\n",
            "750/750 [==============================] - 5s 7ms/step - loss: 0.0228 - accuracy: 0.0287 - val_loss: 0.0235 - val_accuracy: 0.0158\n",
            "Epoch 4/50\n",
            "750/750 [==============================] - 5s 7ms/step - loss: 0.0215 - accuracy: 0.0341 - val_loss: 0.0237 - val_accuracy: 0.0165\n",
            "Epoch 5/50\n",
            "750/750 [==============================] - 5s 7ms/step - loss: 0.0205 - accuracy: 0.0497 - val_loss: 0.0201 - val_accuracy: 0.0452\n",
            "Epoch 6/50\n",
            "750/750 [==============================] - 6s 7ms/step - loss: 0.0195 - accuracy: 0.0692 - val_loss: 0.0187 - val_accuracy: 0.0670\n",
            "Epoch 7/50\n",
            "750/750 [==============================] - 6s 7ms/step - loss: 0.0186 - accuracy: 0.0906 - val_loss: 0.0193 - val_accuracy: 0.0743\n",
            "Epoch 8/50\n",
            "750/750 [==============================] - 5s 7ms/step - loss: 0.0175 - accuracy: 0.1270 - val_loss: 0.0163 - val_accuracy: 0.1452\n",
            "Epoch 9/50\n",
            "750/750 [==============================] - 5s 7ms/step - loss: 0.0162 - accuracy: 0.1744 - val_loss: 0.0156 - val_accuracy: 0.1852\n",
            "Epoch 10/50\n",
            "750/750 [==============================] - 5s 7ms/step - loss: 0.0148 - accuracy: 0.2468 - val_loss: 0.0153 - val_accuracy: 0.2313\n",
            "Epoch 11/50\n",
            "750/750 [==============================] - 5s 7ms/step - loss: 0.0129 - accuracy: 0.3654 - val_loss: 0.0105 - val_accuracy: 0.4782\n",
            "Epoch 12/50\n",
            "750/750 [==============================] - 5s 7ms/step - loss: 0.0109 - accuracy: 0.4976 - val_loss: 0.0083 - val_accuracy: 0.6187\n",
            "Epoch 13/50\n",
            "750/750 [==============================] - 5s 7ms/step - loss: 0.0091 - accuracy: 0.6115 - val_loss: 0.0067 - val_accuracy: 0.7067\n",
            "Epoch 14/50\n",
            "750/750 [==============================] - 5s 7ms/step - loss: 0.0077 - accuracy: 0.6908 - val_loss: 0.0060 - val_accuracy: 0.7425\n",
            "Epoch 15/50\n",
            "750/750 [==============================] - 5s 7ms/step - loss: 0.0066 - accuracy: 0.7473 - val_loss: 0.0052 - val_accuracy: 0.8008\n",
            "Epoch 16/50\n",
            "750/750 [==============================] - 5s 7ms/step - loss: 0.0058 - accuracy: 0.7885 - val_loss: 0.0043 - val_accuracy: 0.8402\n",
            "Epoch 17/50\n",
            "750/750 [==============================] - 5s 7ms/step - loss: 0.0052 - accuracy: 0.8152 - val_loss: 0.0035 - val_accuracy: 0.8648\n",
            "Epoch 18/50\n",
            "750/750 [==============================] - 5s 7ms/step - loss: 0.0046 - accuracy: 0.8455 - val_loss: 0.0033 - val_accuracy: 0.8703\n",
            "Epoch 19/50\n",
            "750/750 [==============================] - 5s 7ms/step - loss: 0.0042 - accuracy: 0.8605 - val_loss: 0.0029 - val_accuracy: 0.8870\n",
            "Epoch 20/50\n",
            "750/750 [==============================] - 5s 7ms/step - loss: 0.0038 - accuracy: 0.8745 - val_loss: 0.0030 - val_accuracy: 0.8868\n",
            "Epoch 21/50\n",
            "750/750 [==============================] - 5s 7ms/step - loss: 0.0035 - accuracy: 0.8870 - val_loss: 0.0026 - val_accuracy: 0.8987\n",
            "Epoch 22/50\n",
            "750/750 [==============================] - 5s 7ms/step - loss: 0.0033 - accuracy: 0.8985 - val_loss: 0.0024 - val_accuracy: 0.9063\n",
            "Epoch 23/50\n",
            "750/750 [==============================] - 5s 7ms/step - loss: 0.0030 - accuracy: 0.9059 - val_loss: 0.0031 - val_accuracy: 0.8827\n",
            "Epoch 24/50\n",
            "750/750 [==============================] - 5s 7ms/step - loss: 0.0028 - accuracy: 0.9159 - val_loss: 0.0023 - val_accuracy: 0.9158\n",
            "Epoch 25/50\n",
            "750/750 [==============================] - 5s 7ms/step - loss: 0.0026 - accuracy: 0.9246 - val_loss: 0.0022 - val_accuracy: 0.9152\n",
            "Epoch 26/50\n",
            "750/750 [==============================] - 5s 7ms/step - loss: 0.0024 - accuracy: 0.9300 - val_loss: 0.0023 - val_accuracy: 0.9095\n",
            "Epoch 27/50\n",
            "750/750 [==============================] - 5s 7ms/step - loss: 0.0023 - accuracy: 0.9358 - val_loss: 0.0021 - val_accuracy: 0.9223\n",
            "Epoch 28/50\n",
            "750/750 [==============================] - 5s 7ms/step - loss: 0.0022 - accuracy: 0.9391 - val_loss: 0.0050 - val_accuracy: 0.8208\n",
            "Epoch 29/50\n",
            "750/750 [==============================] - 5s 7ms/step - loss: 0.0021 - accuracy: 0.9427 - val_loss: 0.0020 - val_accuracy: 0.9200\n",
            "Epoch 30/50\n",
            "750/750 [==============================] - 5s 7ms/step - loss: 0.0019 - accuracy: 0.9483 - val_loss: 0.0019 - val_accuracy: 0.9217\n",
            "Epoch 31/50\n",
            "750/750 [==============================] - 5s 7ms/step - loss: 0.0018 - accuracy: 0.9493 - val_loss: 0.0019 - val_accuracy: 0.9247\n",
            "Epoch 32/50\n",
            "750/750 [==============================] - 5s 7ms/step - loss: 0.0017 - accuracy: 0.9532 - val_loss: 0.0019 - val_accuracy: 0.9255\n",
            "Epoch 33/50\n",
            "750/750 [==============================] - 5s 7ms/step - loss: 0.0017 - accuracy: 0.9560 - val_loss: 0.0018 - val_accuracy: 0.9312\n",
            "Epoch 34/50\n",
            "750/750 [==============================] - 5s 7ms/step - loss: 0.0016 - accuracy: 0.9605 - val_loss: 0.0018 - val_accuracy: 0.9288\n",
            "Epoch 35/50\n",
            "750/750 [==============================] - 5s 7ms/step - loss: 0.0015 - accuracy: 0.9612 - val_loss: 0.0018 - val_accuracy: 0.9293\n",
            "Epoch 36/50\n",
            "750/750 [==============================] - 5s 7ms/step - loss: 0.0015 - accuracy: 0.9635 - val_loss: 0.0019 - val_accuracy: 0.9278\n",
            "Epoch 37/50\n",
            "750/750 [==============================] - 5s 7ms/step - loss: 0.0014 - accuracy: 0.9661 - val_loss: 0.0020 - val_accuracy: 0.9255\n",
            "Epoch 38/50\n",
            "750/750 [==============================] - 5s 7ms/step - loss: 0.0013 - accuracy: 0.9682 - val_loss: 0.0019 - val_accuracy: 0.9272\n",
            "Epoch 39/50\n",
            "750/750 [==============================] - 5s 7ms/step - loss: 0.0013 - accuracy: 0.9701 - val_loss: 0.0018 - val_accuracy: 0.9302\n",
            "Epoch 40/50\n",
            "750/750 [==============================] - 5s 7ms/step - loss: 0.0012 - accuracy: 0.9713 - val_loss: 0.0018 - val_accuracy: 0.9308\n",
            "Epoch 41/50\n",
            "750/750 [==============================] - 5s 7ms/step - loss: 0.0012 - accuracy: 0.9731 - val_loss: 0.0018 - val_accuracy: 0.9293\n",
            "Epoch 42/50\n",
            "750/750 [==============================] - 5s 7ms/step - loss: 0.0011 - accuracy: 0.9758 - val_loss: 0.0018 - val_accuracy: 0.9322\n",
            "Epoch 43/50\n",
            "750/750 [==============================] - 5s 7ms/step - loss: 0.0012 - accuracy: 0.9735 - val_loss: 0.0018 - val_accuracy: 0.9343\n",
            "Epoch 44/50\n",
            "750/750 [==============================] - 5s 7ms/step - loss: 0.0011 - accuracy: 0.9762 - val_loss: 0.0017 - val_accuracy: 0.9330\n",
            "Epoch 45/50\n",
            "750/750 [==============================] - 5s 7ms/step - loss: 0.0010 - accuracy: 0.9784 - val_loss: 0.0018 - val_accuracy: 0.9308\n",
            "Epoch 46/50\n",
            "750/750 [==============================] - 5s 7ms/step - loss: 9.9963e-04 - accuracy: 0.9791 - val_loss: 0.0018 - val_accuracy: 0.9345\n",
            "Epoch 47/50\n",
            "750/750 [==============================] - 5s 7ms/step - loss: 9.5698e-04 - accuracy: 0.9805 - val_loss: 0.0017 - val_accuracy: 0.9383\n",
            "Epoch 48/50\n",
            "750/750 [==============================] - 6s 7ms/step - loss: 9.3201e-04 - accuracy: 0.9811 - val_loss: 0.0017 - val_accuracy: 0.9398\n",
            "Epoch 49/50\n",
            "750/750 [==============================] - 6s 7ms/step - loss: 9.5264e-04 - accuracy: 0.9804 - val_loss: 0.0017 - val_accuracy: 0.9380\n",
            "Epoch 50/50\n",
            "750/750 [==============================] - 5s 7ms/step - loss: 8.7035e-04 - accuracy: 0.9843 - val_loss: 0.0017 - val_accuracy: 0.9343\n"
          ]
        },
        {
          "output_type": "display_data",
          "data": {
            "image/png": "[encoded data removed]",
            "text/plain": [
              "<Figure size 432x288 with 1 Axes>"
            ]
          },
          "metadata": {
            "needs_background": "light"
          }
        },
        {
          "output_type": "display_data",
          "data": {
            "image/png": "[encoded data removed]",
            "text/plain": [
              "<Figure size 432x288 with 1 Axes>"
            ]
          },
          "metadata": {
            "needs_background": "light"
          }
        }
      ]
    },
    {
      "cell_type": "markdown",
      "metadata": {
        "id": "-zShL6ugF_Il"
      },
      "source": [
        "## Batch Size = 8, Epochs = 50"
      ]
    },
    {
      "cell_type": "code",
      "metadata": {
        "colab": {
          "base_uri": "https://localhost:8080/",
          "height": 1000
        },
        "id": "2rBVHpEpGSHf",
        "outputId": "b5e1c857-38a4-483b-f790-e1b8dc4b8e18"
      },
      "source": [
        "model = net()\n",
        "fit_8_50 = model.fit(train_images, train_labels, batch_size=8, epochs=50,\n",
        "                     validation_data=(val_images, val_labels))\n",
        "x_axis = np.arange(50)\n",
        "plt.plot(x_axis, fit_8_50.history[\"loss\"], label = \"Training Loss\")\n",
        "plt.plot(x_axis, fit_8_50.history[\"val_loss\"], label = \"Validation Loss\")\n",
        "plt.xlabel(\"Epoch\")\n",
        "plt.ylabel(\"Loss\")\n",
        "plt.legend()\n",
        "plt.show()\n",
        "\n",
        "plt.plot(x_axis, fit_8_50.history[\"accuracy\"], label = \"Training Accuracy\")\n",
        "plt.plot(x_axis, fit_8_50.history[\"val_accuracy\"], label = \"Validation Accuracy\")\n",
        "plt.xlabel(\"Epoch\")\n",
        "plt.ylabel(\"Accuracy\")\n",
        "plt.legend()\n",
        "plt.show()"
      ],
      "execution_count": null,
      "outputs": [
        {
          "output_type": "stream",
          "name": "stdout",
          "text": [
            "Epoch 1/50\n",
            "3000/3000 [==============================] - 31s 5ms/step - loss: 0.0736 - accuracy: 0.0135 - val_loss: 0.0266 - val_accuracy: 0.0183\n",
            "Epoch 2/50\n",
            "3000/3000 [==============================] - 15s 5ms/step - loss: 0.0230 - accuracy: 0.0272 - val_loss: 0.0223 - val_accuracy: 0.0270\n",
            "Epoch 3/50\n",
            "3000/3000 [==============================] - 15s 5ms/step - loss: 0.0212 - accuracy: 0.0503 - val_loss: 0.0209 - val_accuracy: 0.0557\n",
            "Epoch 4/50\n",
            "3000/3000 [==============================] - 15s 5ms/step - loss: 0.0195 - accuracy: 0.0742 - val_loss: 0.0188 - val_accuracy: 0.0972\n",
            "Epoch 5/50\n",
            "3000/3000 [==============================] - 15s 5ms/step - loss: 0.0181 - accuracy: 0.1105 - val_loss: 0.0165 - val_accuracy: 0.1485\n",
            "Epoch 6/50\n",
            "3000/3000 [==============================] - 15s 5ms/step - loss: 0.0166 - accuracy: 0.1637 - val_loss: 0.0143 - val_accuracy: 0.2500\n",
            "Epoch 7/50\n",
            "3000/3000 [==============================] - 16s 5ms/step - loss: 0.0153 - accuracy: 0.2234 - val_loss: 0.0128 - val_accuracy: 0.3405\n",
            "Epoch 8/50\n",
            "3000/3000 [==============================] - 15s 5ms/step - loss: 0.0141 - accuracy: 0.2854 - val_loss: 0.0120 - val_accuracy: 0.4147\n",
            "Epoch 9/50\n",
            "3000/3000 [==============================] - 15s 5ms/step - loss: 0.0131 - accuracy: 0.3481 - val_loss: 0.0102 - val_accuracy: 0.5080\n",
            "Epoch 10/50\n",
            "3000/3000 [==============================] - 15s 5ms/step - loss: 0.0120 - accuracy: 0.4180 - val_loss: 0.0094 - val_accuracy: 0.5893\n",
            "Epoch 11/50\n",
            "3000/3000 [==============================] - 15s 5ms/step - loss: 0.0110 - accuracy: 0.4897 - val_loss: 0.0089 - val_accuracy: 0.6137\n",
            "Epoch 12/50\n",
            "3000/3000 [==============================] - 15s 5ms/step - loss: 0.0100 - accuracy: 0.5499 - val_loss: 0.0075 - val_accuracy: 0.7043\n",
            "Epoch 13/50\n",
            "3000/3000 [==============================] - 15s 5ms/step - loss: 0.0094 - accuracy: 0.5925 - val_loss: 0.0068 - val_accuracy: 0.7537\n",
            "Epoch 14/50\n",
            "3000/3000 [==============================] - 15s 5ms/step - loss: 0.0087 - accuracy: 0.6319 - val_loss: 0.0061 - val_accuracy: 0.7898\n",
            "Epoch 15/50\n",
            "3000/3000 [==============================] - 15s 5ms/step - loss: 0.0080 - accuracy: 0.6726 - val_loss: 0.0056 - val_accuracy: 0.8105\n",
            "Epoch 16/50\n",
            "3000/3000 [==============================] - 15s 5ms/step - loss: 0.0075 - accuracy: 0.6965 - val_loss: 0.0054 - val_accuracy: 0.8275\n",
            "Epoch 17/50\n",
            "3000/3000 [==============================] - 15s 5ms/step - loss: 0.0072 - accuracy: 0.7216 - val_loss: 0.0049 - val_accuracy: 0.8392\n",
            "Epoch 18/50\n",
            "3000/3000 [==============================] - 15s 5ms/step - loss: 0.0068 - accuracy: 0.7407 - val_loss: 0.0047 - val_accuracy: 0.8505\n",
            "Epoch 19/50\n",
            "3000/3000 [==============================] - 15s 5ms/step - loss: 0.0065 - accuracy: 0.7587 - val_loss: 0.0046 - val_accuracy: 0.8593\n",
            "Epoch 20/50\n",
            "3000/3000 [==============================] - 15s 5ms/step - loss: 0.0062 - accuracy: 0.7700 - val_loss: 0.0045 - val_accuracy: 0.8622\n",
            "Epoch 21/50\n",
            "3000/3000 [==============================] - 15s 5ms/step - loss: 0.0059 - accuracy: 0.7852 - val_loss: 0.0043 - val_accuracy: 0.8675\n",
            "Epoch 22/50\n",
            "3000/3000 [==============================] - 15s 5ms/step - loss: 0.0057 - accuracy: 0.7966 - val_loss: 0.0038 - val_accuracy: 0.8722\n",
            "Epoch 23/50\n",
            "3000/3000 [==============================] - 15s 5ms/step - loss: 0.0055 - accuracy: 0.8058 - val_loss: 0.0039 - val_accuracy: 0.8788\n",
            "Epoch 24/50\n",
            "3000/3000 [==============================] - 15s 5ms/step - loss: 0.0053 - accuracy: 0.8138 - val_loss: 0.0040 - val_accuracy: 0.8855\n",
            "Epoch 25/50\n",
            "3000/3000 [==============================] - 15s 5ms/step - loss: 0.0051 - accuracy: 0.8227 - val_loss: 0.0037 - val_accuracy: 0.8877\n",
            "Epoch 26/50\n",
            "3000/3000 [==============================] - 15s 5ms/step - loss: 0.0050 - accuracy: 0.8326 - val_loss: 0.0035 - val_accuracy: 0.8930\n",
            "Epoch 27/50\n",
            "3000/3000 [==============================] - 15s 5ms/step - loss: 0.0047 - accuracy: 0.8390 - val_loss: 0.0034 - val_accuracy: 0.8882\n",
            "Epoch 28/50\n",
            "3000/3000 [==============================] - 16s 5ms/step - loss: 0.0046 - accuracy: 0.8445 - val_loss: 0.0032 - val_accuracy: 0.9022\n",
            "Epoch 29/50\n",
            "3000/3000 [==============================] - 15s 5ms/step - loss: 0.0045 - accuracy: 0.8517 - val_loss: 0.0032 - val_accuracy: 0.8963\n",
            "Epoch 30/50\n",
            "3000/3000 [==============================] - 15s 5ms/step - loss: 0.0044 - accuracy: 0.8568 - val_loss: 0.0032 - val_accuracy: 0.9010\n",
            "Epoch 31/50\n",
            "3000/3000 [==============================] - 16s 5ms/step - loss: 0.0043 - accuracy: 0.8595 - val_loss: 0.0032 - val_accuracy: 0.9027\n",
            "Epoch 32/50\n",
            "3000/3000 [==============================] - 15s 5ms/step - loss: 0.0042 - accuracy: 0.8653 - val_loss: 0.0032 - val_accuracy: 0.9022\n",
            "Epoch 33/50\n",
            "3000/3000 [==============================] - 16s 5ms/step - loss: 0.0041 - accuracy: 0.8709 - val_loss: 0.0031 - val_accuracy: 0.9055\n",
            "Epoch 34/50\n",
            "3000/3000 [==============================] - 15s 5ms/step - loss: 0.0039 - accuracy: 0.8746 - val_loss: 0.0029 - val_accuracy: 0.9082\n",
            "Epoch 35/50\n",
            "3000/3000 [==============================] - 15s 5ms/step - loss: 0.0039 - accuracy: 0.8808 - val_loss: 0.0029 - val_accuracy: 0.9080\n",
            "Epoch 36/50\n",
            "3000/3000 [==============================] - 15s 5ms/step - loss: 0.0037 - accuracy: 0.8843 - val_loss: 0.0029 - val_accuracy: 0.9100\n",
            "Epoch 37/50\n",
            "3000/3000 [==============================] - 15s 5ms/step - loss: 0.0037 - accuracy: 0.8835 - val_loss: 0.0029 - val_accuracy: 0.9077\n",
            "Epoch 38/50\n",
            "3000/3000 [==============================] - 15s 5ms/step - loss: 0.0036 - accuracy: 0.8890 - val_loss: 0.0029 - val_accuracy: 0.9075\n",
            "Epoch 39/50\n",
            "3000/3000 [==============================] - 16s 5ms/step - loss: 0.0035 - accuracy: 0.8935 - val_loss: 0.0028 - val_accuracy: 0.9085\n",
            "Epoch 40/50\n",
            "3000/3000 [==============================] - 15s 5ms/step - loss: 0.0035 - accuracy: 0.8944 - val_loss: 0.0026 - val_accuracy: 0.9117\n",
            "Epoch 41/50\n",
            "3000/3000 [==============================] - 15s 5ms/step - loss: 0.0034 - accuracy: 0.9014 - val_loss: 0.0027 - val_accuracy: 0.9117\n",
            "Epoch 42/50\n",
            "3000/3000 [==============================] - 15s 5ms/step - loss: 0.0033 - accuracy: 0.9037 - val_loss: 0.0026 - val_accuracy: 0.9148\n",
            "Epoch 43/50\n",
            "3000/3000 [==============================] - 15s 5ms/step - loss: 0.0033 - accuracy: 0.9031 - val_loss: 0.0027 - val_accuracy: 0.9143\n",
            "Epoch 44/50\n",
            "3000/3000 [==============================] - 15s 5ms/step - loss: 0.0032 - accuracy: 0.9032 - val_loss: 0.0026 - val_accuracy: 0.9155\n",
            "Epoch 45/50\n",
            "3000/3000 [==============================] - 15s 5ms/step - loss: 0.0031 - accuracy: 0.9103 - val_loss: 0.0025 - val_accuracy: 0.9170\n",
            "Epoch 46/50\n",
            "3000/3000 [==============================] - 15s 5ms/step - loss: 0.0031 - accuracy: 0.9097 - val_loss: 0.0026 - val_accuracy: 0.9182\n",
            "Epoch 47/50\n",
            "3000/3000 [==============================] - 15s 5ms/step - loss: 0.0031 - accuracy: 0.9115 - val_loss: 0.0025 - val_accuracy: 0.9175\n",
            "Epoch 48/50\n",
            "3000/3000 [==============================] - 16s 5ms/step - loss: 0.0030 - accuracy: 0.9159 - val_loss: 0.0026 - val_accuracy: 0.9188\n",
            "Epoch 49/50\n",
            "3000/3000 [==============================] - 15s 5ms/step - loss: 0.0030 - accuracy: 0.9155 - val_loss: 0.0025 - val_accuracy: 0.9197\n",
            "Epoch 50/50\n",
            "3000/3000 [==============================] - 15s 5ms/step - loss: 0.0029 - accuracy: 0.9172 - val_loss: 0.0025 - val_accuracy: 0.9223\n"
          ]
        },
        {
          "output_type": "display_data",
          "data": {
            "image/png": "[encoded data removed]",
            "text/plain": [
              "<Figure size 432x288 with 1 Axes>"
            ]
          },
          "metadata": {
            "needs_background": "light"
          }
        },
        {
          "output_type": "display_data",
          "data": {
            "image/png": "[encoded data removed]",
            "text/plain": [
              "<Figure size 432x288 with 1 Axes>"
            ]
          },
          "metadata": {
            "needs_background": "light"
          }
        }
      ]
    },
    {
      "cell_type": "markdown",
      "metadata": {
        "id": "ia9VPMAxpJ0q"
      },
      "source": [
        "# Backup the Trained Model"
      ]
    },
    {
      "cell_type": "code",
      "metadata": {
        "id": "4HJO1l5hJFtI",
        "colab": {
          "base_uri": "https://localhost:8080/"
        },
        "outputId": "d852ed08-b5d1-4fff-fa22-4765c8bd6d0d"
      },
      "source": [
        "# Save our trained model\n",
        "model.save('Backup')"
      ],
      "execution_count": null,
      "outputs": [
        {
          "output_type": "stream",
          "name": "stdout",
          "text": [
            "INFO:tensorflow:Assets written to: Backup/assets\n"
          ]
        }
      ]
    },
    {
      "cell_type": "markdown",
      "metadata": {
        "id": "CdsPAOLbpzTt"
      },
      "source": [
        "# Produce Predictions on the Test Set"
      ]
    },
    {
      "cell_type": "markdown",
      "metadata": {
        "id": "Apx94Vfqp7co"
      },
      "source": [
        "## Load & preprocess the test data."
      ]
    },
    {
      "cell_type": "code",
      "metadata": {
        "id": "rBfVNWcKS46A"
      },
      "source": [
        "with open(\"images_test.pkl\", \"rb\") as f:\n",
        "    tests = pkl.load(f)\n",
        "\n",
        "# Normalize & denoise the test images\n",
        "tests = tests / 255.0\n",
        "tests = np.apply_along_axis(lambda i: denoise(i, 0.69), 1, tests)\n",
        "tests = tests.reshape(15000, 56, 56, 1)"
      ],
      "execution_count": null,
      "outputs": []
    },
    {
      "cell_type": "markdown",
      "metadata": {
        "id": "asA7neDyqDlY"
      },
      "source": [
        "## Draw Predictions"
      ]
    },
    {
      "cell_type": "markdown",
      "metadata": {
        "id": "vhWN-dfoqsIO"
      },
      "source": [
        "Feed the test data into the trained model to get predictions of length 260."
      ]
    },
    {
      "cell_type": "code",
      "metadata": {
        "id": "jWP24DeuW5Xt",
        "colab": {
          "base_uri": "https://localhost:8080/"
        },
        "outputId": "ec776579-b8d2-4821-904d-8572ad5ebdf2"
      },
      "source": [
        "pred = model.predict(tests)\n",
        "print(pred.shape)"
      ],
      "execution_count": null,
      "outputs": [
        {
          "output_type": "stream",
          "name": "stdout",
          "text": [
            "(15000, 260)\n"
          ]
        }
      ]
    },
    {
      "cell_type": "markdown",
      "metadata": {
        "id": "Jg8Sv1klqnW2"
      },
      "source": [
        "Map the predictions back into the required format of length 36."
      ]
    },
    {
      "cell_type": "code",
      "metadata": {
        "collapsed": true,
        "id": "1CANX9KrV825"
      },
      "source": [
        "import pandas as pd\n",
        "\n",
        "prediction = []\n",
        "for data in pred:\n",
        "    ''' Prediction scheme without label merging (i.e. output length=36 instead of 260)\n",
        "    num = data[:10].argmax()\n",
        "    char = data[10:].argmax()\n",
        "    prediction.append(''.join(['0' if i != num and i != char + 10 else '1' for i in range(36)]))'''\n",
        "    result = data.argmax()\n",
        "    num = result // 26\n",
        "    char = result % 26\n",
        "    prediction.append(''.join(['0' if i != num and i != char + 10 else '1' for i in range(36)]))\n",
        "\n",
        "\n",
        "        "
      ],
      "execution_count": null,
      "outputs": []
    },
    {
      "cell_type": "markdown",
      "metadata": {
        "id": "1B8qC28wsL_u"
      },
      "source": [
        "Write the predictions into an output file"
      ]
    },
    {
      "cell_type": "code",
      "metadata": {
        "id": "nDgY7etSVIFA",
        "colab": {
          "base_uri": "https://localhost:8080/"
        },
        "outputId": "306dbaf0-744f-4ba9-8ff9-86449349fdf2"
      },
      "source": [
        "result = {\"# Id\": np.arange(15000), 'Category': prediction}\n",
        "df = pd.DataFrame(data=result, columns=['# Id', 'Category'])\n",
        "print(df.head())\n",
        "df.to_csv('results.csv', header=True, index=False)"
      ],
      "execution_count": null,
      "outputs": [
        {
          "output_type": "stream",
          "name": "stdout",
          "text": [
            "   # Id                              Category\n",
            "0     0  100000000000000000000000000001000000\n",
            "1     1  000010000000000000000100000000000000\n",
            "2     2  000000000100000000010000000000000000\n",
            "3     3  100000000000000000000100000000000000\n",
            "4     4  000000100000000000010000000000000000\n"
          ]
        }
      ]
    },
    {
      "cell_type": "markdown",
      "metadata": {
        "id": "SXNO3tJ4xukp"
      },
      "source": [
        ""
      ]
    }
  ]
}